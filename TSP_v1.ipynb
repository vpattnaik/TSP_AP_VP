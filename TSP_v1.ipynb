{
 "cells": [
  {
   "cell_type": "markdown",
   "metadata": {},
   "source": [
    "This program was written to solve the Travelling Salesman Problem with n nodes and one salesman. The function cost solves the problem in O(n!) time"
   ]
  },
  {
   "cell_type": "code",
   "execution_count": 1,
   "metadata": {},
   "outputs": [],
   "source": [
    "X = [-1 -1 1 1 0]\n",
    "Y = [1 -1 -1 1 0]\n",
    "D = [sqrt((X[i]-X[j])^2 + (Y[i]-Y[j])^2) for j = 1:length(X), i = 1:length(X)];"
   ]
  },
  {
   "cell_type": "code",
   "execution_count": 2,
   "metadata": {},
   "outputs": [],
   "source": [
    "using Plots"
   ]
  },
  {
   "cell_type": "code",
   "execution_count": 3,
   "metadata": {},
   "outputs": [
    {
     "data": {
      "image/svg+xml": [
       "<?xml version=\"1.0\" encoding=\"utf-8\"?>\n",
       "<svg xmlns=\"http://www.w3.org/2000/svg\" xmlns:xlink=\"http://www.w3.org/1999/xlink\" width=\"600\" height=\"400\" viewBox=\"0 0 600 400\">\n",
       "<defs>\n",
       "  <clipPath id=\"clip9000\">\n",
       "    <rect x=\"0\" y=\"0\" width=\"600\" height=\"400\"/>\n",
       "  </clipPath>\n",
       "</defs>\n",
       "<polygon clip-path=\"url(#clip9000)\" points=\"\n",
       "0,400 600,400 600,0 0,0 \n",
       "  \" fill=\"#ffffff\" fill-opacity=\"1\"/>\n",
       "<defs>\n",
       "  <clipPath id=\"clip9001\">\n",
       "    <rect x=\"120\" y=\"0\" width=\"421\" height=\"400\"/>\n",
       "  </clipPath>\n",
       "</defs>\n",
       "<polygon clip-path=\"url(#clip9000)\" points=\"\n",
       "39.502,375.869 580.315,375.869 580.315,11.811 39.502,11.811 \n",
       "  \" fill=\"#ffffff\" fill-opacity=\"1\"/>\n",
       "<defs>\n",
       "  <clipPath id=\"clip9002\">\n",
       "    <rect x=\"39\" y=\"11\" width=\"542\" height=\"365\"/>\n",
       "  </clipPath>\n",
       "</defs>\n",
       "<polyline clip-path=\"url(#clip9002)\" style=\"stroke:#000000; stroke-width:0.5; stroke-opacity:0.1; fill:none\" points=\"\n",
       "  54.808,375.869 54.808,11.811 \n",
       "  \"/>\n",
       "<polyline clip-path=\"url(#clip9002)\" style=\"stroke:#000000; stroke-width:0.5; stroke-opacity:0.1; fill:none\" points=\"\n",
       "  182.358,375.869 182.358,11.811 \n",
       "  \"/>\n",
       "<polyline clip-path=\"url(#clip9002)\" style=\"stroke:#000000; stroke-width:0.5; stroke-opacity:0.1; fill:none\" points=\"\n",
       "  309.908,375.869 309.908,11.811 \n",
       "  \"/>\n",
       "<polyline clip-path=\"url(#clip9002)\" style=\"stroke:#000000; stroke-width:0.5; stroke-opacity:0.1; fill:none\" points=\"\n",
       "  437.459,375.869 437.459,11.811 \n",
       "  \"/>\n",
       "<polyline clip-path=\"url(#clip9002)\" style=\"stroke:#000000; stroke-width:0.5; stroke-opacity:0.1; fill:none\" points=\"\n",
       "  565.009,375.869 565.009,11.811 \n",
       "  \"/>\n",
       "<polyline clip-path=\"url(#clip9002)\" style=\"stroke:#000000; stroke-width:0.5; stroke-opacity:0.1; fill:none\" points=\"\n",
       "  39.502,365.565 580.315,365.565 \n",
       "  \"/>\n",
       "<polyline clip-path=\"url(#clip9002)\" style=\"stroke:#000000; stroke-width:0.5; stroke-opacity:0.1; fill:none\" points=\"\n",
       "  39.502,279.703 580.315,279.703 \n",
       "  \"/>\n",
       "<polyline clip-path=\"url(#clip9002)\" style=\"stroke:#000000; stroke-width:0.5; stroke-opacity:0.1; fill:none\" points=\"\n",
       "  39.502,193.84 580.315,193.84 \n",
       "  \"/>\n",
       "<polyline clip-path=\"url(#clip9002)\" style=\"stroke:#000000; stroke-width:0.5; stroke-opacity:0.1; fill:none\" points=\"\n",
       "  39.502,107.977 580.315,107.977 \n",
       "  \"/>\n",
       "<polyline clip-path=\"url(#clip9002)\" style=\"stroke:#000000; stroke-width:0.5; stroke-opacity:0.1; fill:none\" points=\"\n",
       "  39.502,22.1145 580.315,22.1145 \n",
       "  \"/>\n",
       "<polyline clip-path=\"url(#clip9000)\" style=\"stroke:#000000; stroke-width:1; stroke-opacity:1; fill:none\" points=\"\n",
       "  39.502,375.869 580.315,375.869 \n",
       "  \"/>\n",
       "<polyline clip-path=\"url(#clip9000)\" style=\"stroke:#000000; stroke-width:1; stroke-opacity:1; fill:none\" points=\"\n",
       "  39.502,375.869 39.502,11.811 \n",
       "  \"/>\n",
       "<polyline clip-path=\"url(#clip9000)\" style=\"stroke:#000000; stroke-width:1; stroke-opacity:1; fill:none\" points=\"\n",
       "  54.808,375.869 54.808,370.408 \n",
       "  \"/>\n",
       "<polyline clip-path=\"url(#clip9000)\" style=\"stroke:#000000; stroke-width:1; stroke-opacity:1; fill:none\" points=\"\n",
       "  182.358,375.869 182.358,370.408 \n",
       "  \"/>\n",
       "<polyline clip-path=\"url(#clip9000)\" style=\"stroke:#000000; stroke-width:1; stroke-opacity:1; fill:none\" points=\"\n",
       "  309.908,375.869 309.908,370.408 \n",
       "  \"/>\n",
       "<polyline clip-path=\"url(#clip9000)\" style=\"stroke:#000000; stroke-width:1; stroke-opacity:1; fill:none\" points=\"\n",
       "  437.459,375.869 437.459,370.408 \n",
       "  \"/>\n",
       "<polyline clip-path=\"url(#clip9000)\" style=\"stroke:#000000; stroke-width:1; stroke-opacity:1; fill:none\" points=\"\n",
       "  565.009,375.869 565.009,370.408 \n",
       "  \"/>\n",
       "<polyline clip-path=\"url(#clip9000)\" style=\"stroke:#000000; stroke-width:1; stroke-opacity:1; fill:none\" points=\"\n",
       "  39.502,365.565 47.6142,365.565 \n",
       "  \"/>\n",
       "<polyline clip-path=\"url(#clip9000)\" style=\"stroke:#000000; stroke-width:1; stroke-opacity:1; fill:none\" points=\"\n",
       "  39.502,279.703 47.6142,279.703 \n",
       "  \"/>\n",
       "<polyline clip-path=\"url(#clip9000)\" style=\"stroke:#000000; stroke-width:1; stroke-opacity:1; fill:none\" points=\"\n",
       "  39.502,193.84 47.6142,193.84 \n",
       "  \"/>\n",
       "<polyline clip-path=\"url(#clip9000)\" style=\"stroke:#000000; stroke-width:1; stroke-opacity:1; fill:none\" points=\"\n",
       "  39.502,107.977 47.6142,107.977 \n",
       "  \"/>\n",
       "<polyline clip-path=\"url(#clip9000)\" style=\"stroke:#000000; stroke-width:1; stroke-opacity:1; fill:none\" points=\"\n",
       "  39.502,22.1145 47.6142,22.1145 \n",
       "  \"/>\n",
       "<g clip-path=\"url(#clip9000)\">\n",
       "<text style=\"fill:#000000; fill-opacity:1; font-family:Arial,Helvetica Neue,Helvetica,sans-serif; font-size:12; text-anchor:middle;\" transform=\"rotate(0, 54.808, 389.669)\" x=\"54.808\" y=\"389.669\">-1.0</text>\n",
       "</g>\n",
       "<g clip-path=\"url(#clip9000)\">\n",
       "<text style=\"fill:#000000; fill-opacity:1; font-family:Arial,Helvetica Neue,Helvetica,sans-serif; font-size:12; text-anchor:middle;\" transform=\"rotate(0, 182.358, 389.669)\" x=\"182.358\" y=\"389.669\">-0.5</text>\n",
       "</g>\n",
       "<g clip-path=\"url(#clip9000)\">\n",
       "<text style=\"fill:#000000; fill-opacity:1; font-family:Arial,Helvetica Neue,Helvetica,sans-serif; font-size:12; text-anchor:middle;\" transform=\"rotate(0, 309.908, 389.669)\" x=\"309.908\" y=\"389.669\">0.0</text>\n",
       "</g>\n",
       "<g clip-path=\"url(#clip9000)\">\n",
       "<text style=\"fill:#000000; fill-opacity:1; font-family:Arial,Helvetica Neue,Helvetica,sans-serif; font-size:12; text-anchor:middle;\" transform=\"rotate(0, 437.459, 389.669)\" x=\"437.459\" y=\"389.669\">0.5</text>\n",
       "</g>\n",
       "<g clip-path=\"url(#clip9000)\">\n",
       "<text style=\"fill:#000000; fill-opacity:1; font-family:Arial,Helvetica Neue,Helvetica,sans-serif; font-size:12; text-anchor:middle;\" transform=\"rotate(0, 565.009, 389.669)\" x=\"565.009\" y=\"389.669\">1.0</text>\n",
       "</g>\n",
       "<g clip-path=\"url(#clip9000)\">\n",
       "<text style=\"fill:#000000; fill-opacity:1; font-family:Arial,Helvetica Neue,Helvetica,sans-serif; font-size:12; text-anchor:end;\" transform=\"rotate(0, 33.502, 370.065)\" x=\"33.502\" y=\"370.065\">-1.0</text>\n",
       "</g>\n",
       "<g clip-path=\"url(#clip9000)\">\n",
       "<text style=\"fill:#000000; fill-opacity:1; font-family:Arial,Helvetica Neue,Helvetica,sans-serif; font-size:12; text-anchor:end;\" transform=\"rotate(0, 33.502, 284.203)\" x=\"33.502\" y=\"284.203\">-0.5</text>\n",
       "</g>\n",
       "<g clip-path=\"url(#clip9000)\">\n",
       "<text style=\"fill:#000000; fill-opacity:1; font-family:Arial,Helvetica Neue,Helvetica,sans-serif; font-size:12; text-anchor:end;\" transform=\"rotate(0, 33.502, 198.34)\" x=\"33.502\" y=\"198.34\">0.0</text>\n",
       "</g>\n",
       "<g clip-path=\"url(#clip9000)\">\n",
       "<text style=\"fill:#000000; fill-opacity:1; font-family:Arial,Helvetica Neue,Helvetica,sans-serif; font-size:12; text-anchor:end;\" transform=\"rotate(0, 33.502, 112.477)\" x=\"33.502\" y=\"112.477\">0.5</text>\n",
       "</g>\n",
       "<g clip-path=\"url(#clip9000)\">\n",
       "<text style=\"fill:#000000; fill-opacity:1; font-family:Arial,Helvetica Neue,Helvetica,sans-serif; font-size:12; text-anchor:end;\" transform=\"rotate(0, 33.502, 26.6145)\" x=\"33.502\" y=\"26.6145\">1.0</text>\n",
       "</g>\n",
       "<circle clip-path=\"url(#clip9002)\" style=\"fill:#000000; stroke:none; fill-opacity:1\" cx=\"54.808\" cy=\"22.1145\" r=\"4\"/>\n",
       "<circle clip-path=\"url(#clip9002)\" style=\"fill:#009af9; stroke:none; fill-opacity:1\" cx=\"54.808\" cy=\"22.1145\" r=\"3\"/>\n",
       "<circle clip-path=\"url(#clip9002)\" style=\"fill:#000000; stroke:none; fill-opacity:1\" cx=\"54.808\" cy=\"365.565\" r=\"4\"/>\n",
       "<circle clip-path=\"url(#clip9002)\" style=\"fill:#e26f46; stroke:none; fill-opacity:1\" cx=\"54.808\" cy=\"365.565\" r=\"3\"/>\n",
       "<circle clip-path=\"url(#clip9002)\" style=\"fill:#000000; stroke:none; fill-opacity:1\" cx=\"565.009\" cy=\"365.565\" r=\"4\"/>\n",
       "<circle clip-path=\"url(#clip9002)\" style=\"fill:#3da44d; stroke:none; fill-opacity:1\" cx=\"565.009\" cy=\"365.565\" r=\"3\"/>\n",
       "<circle clip-path=\"url(#clip9002)\" style=\"fill:#000000; stroke:none; fill-opacity:1\" cx=\"565.009\" cy=\"22.1145\" r=\"4\"/>\n",
       "<circle clip-path=\"url(#clip9002)\" style=\"fill:#c271d2; stroke:none; fill-opacity:1\" cx=\"565.009\" cy=\"22.1145\" r=\"3\"/>\n",
       "<circle clip-path=\"url(#clip9002)\" style=\"fill:#000000; stroke:none; fill-opacity:1\" cx=\"309.908\" cy=\"193.84\" r=\"4\"/>\n",
       "<circle clip-path=\"url(#clip9002)\" style=\"fill:#ac8d18; stroke:none; fill-opacity:1\" cx=\"309.908\" cy=\"193.84\" r=\"3\"/>\n",
       "<polygon clip-path=\"url(#clip9000)\" points=\"\n",
       "489.608,123.411 562.315,123.411 562.315,32.691 489.608,32.691 \n",
       "  \" fill=\"#ffffff\" fill-opacity=\"1\"/>\n",
       "<polyline clip-path=\"url(#clip9000)\" style=\"stroke:#000000; stroke-width:1; stroke-opacity:1; fill:none\" points=\"\n",
       "  489.608,123.411 562.315,123.411 562.315,32.691 489.608,32.691 489.608,123.411 \n",
       "  \"/>\n",
       "<circle clip-path=\"url(#clip9000)\" style=\"fill:#000000; stroke:none; fill-opacity:1\" cx=\"516.608\" cy=\"47.811\" r=\"6\"/>\n",
       "<circle clip-path=\"url(#clip9000)\" style=\"fill:#009af9; stroke:none; fill-opacity:1\" cx=\"516.608\" cy=\"47.811\" r=\"5\"/>\n",
       "<g clip-path=\"url(#clip9000)\">\n",
       "<text style=\"fill:#000000; fill-opacity:1; font-family:Arial,Helvetica Neue,Helvetica,sans-serif; font-size:12; text-anchor:start;\" transform=\"rotate(0, 537.608, 52.311)\" x=\"537.608\" y=\"52.311\">y1</text>\n",
       "</g>\n",
       "<circle clip-path=\"url(#clip9000)\" style=\"fill:#000000; stroke:none; fill-opacity:1\" cx=\"516.608\" cy=\"62.931\" r=\"6\"/>\n",
       "<circle clip-path=\"url(#clip9000)\" style=\"fill:#e26f46; stroke:none; fill-opacity:1\" cx=\"516.608\" cy=\"62.931\" r=\"5\"/>\n",
       "<g clip-path=\"url(#clip9000)\">\n",
       "<text style=\"fill:#000000; fill-opacity:1; font-family:Arial,Helvetica Neue,Helvetica,sans-serif; font-size:12; text-anchor:start;\" transform=\"rotate(0, 537.608, 67.431)\" x=\"537.608\" y=\"67.431\">y2</text>\n",
       "</g>\n",
       "<circle clip-path=\"url(#clip9000)\" style=\"fill:#000000; stroke:none; fill-opacity:1\" cx=\"516.608\" cy=\"78.051\" r=\"6\"/>\n",
       "<circle clip-path=\"url(#clip9000)\" style=\"fill:#3da44d; stroke:none; fill-opacity:1\" cx=\"516.608\" cy=\"78.051\" r=\"5\"/>\n",
       "<g clip-path=\"url(#clip9000)\">\n",
       "<text style=\"fill:#000000; fill-opacity:1; font-family:Arial,Helvetica Neue,Helvetica,sans-serif; font-size:12; text-anchor:start;\" transform=\"rotate(0, 537.608, 82.551)\" x=\"537.608\" y=\"82.551\">y3</text>\n",
       "</g>\n",
       "<circle clip-path=\"url(#clip9000)\" style=\"fill:#000000; stroke:none; fill-opacity:1\" cx=\"516.608\" cy=\"93.171\" r=\"6\"/>\n",
       "<circle clip-path=\"url(#clip9000)\" style=\"fill:#c271d2; stroke:none; fill-opacity:1\" cx=\"516.608\" cy=\"93.171\" r=\"5\"/>\n",
       "<g clip-path=\"url(#clip9000)\">\n",
       "<text style=\"fill:#000000; fill-opacity:1; font-family:Arial,Helvetica Neue,Helvetica,sans-serif; font-size:12; text-anchor:start;\" transform=\"rotate(0, 537.608, 97.671)\" x=\"537.608\" y=\"97.671\">y4</text>\n",
       "</g>\n",
       "<circle clip-path=\"url(#clip9000)\" style=\"fill:#000000; stroke:none; fill-opacity:1\" cx=\"516.608\" cy=\"108.291\" r=\"6\"/>\n",
       "<circle clip-path=\"url(#clip9000)\" style=\"fill:#ac8d18; stroke:none; fill-opacity:1\" cx=\"516.608\" cy=\"108.291\" r=\"5\"/>\n",
       "<g clip-path=\"url(#clip9000)\">\n",
       "<text style=\"fill:#000000; fill-opacity:1; font-family:Arial,Helvetica Neue,Helvetica,sans-serif; font-size:12; text-anchor:start;\" transform=\"rotate(0, 537.608, 112.791)\" x=\"537.608\" y=\"112.791\">y5</text>\n",
       "</g>\n",
       "</svg>\n"
      ]
     },
     "execution_count": 3,
     "metadata": {},
     "output_type": "execute_result"
    }
   ],
   "source": [
    "scatter(X,Y)"
   ]
  },
  {
   "cell_type": "code",
   "execution_count": 4,
   "metadata": {},
   "outputs": [
    {
     "data": {
      "text/plain": [
       "cost (generic function with 2 methods)"
      ]
     },
     "execution_count": 4,
     "metadata": {},
     "output_type": "execute_result"
    }
   ],
   "source": [
    "function cost(a, n, D, phi = 1)\n",
    "    d = Inf\n",
    "    counter = size(D,1) + 1 - length(n)\n",
    "    if length(n) == 1\n",
    "        d = D[a,n[1]] + D[n[1],phi]\n",
    "        order_array[counter] = a\n",
    "    else\n",
    "        for i = 1:length(n)\n",
    "            temp_d = D[a,n[i]] + cost(n[i], n[1:end .!= i], D, phi)\n",
    "            if temp_d < d\n",
    "                d = temp_d\n",
    "                order_array[counter] = a\n",
    "            end\n",
    "        end\n",
    "    end\n",
    "    return d\n",
    "end"
   ]
  },
  {
   "cell_type": "code",
   "execution_count": 5,
   "metadata": {},
   "outputs": [
    {
     "data": {
      "text/plain": [
       "8.82842712474619"
      ]
     },
     "execution_count": 5,
     "metadata": {},
     "output_type": "execute_result"
    }
   ],
   "source": [
    "order_array = zeros(size(D,1),1)\n",
    "cost(1, 1:5, D)"
   ]
  },
  {
   "cell_type": "code",
   "execution_count": 6,
   "metadata": {},
   "outputs": [
    {
     "data": {
      "text/plain": [
       "5×1 Array{Float64,2}:\n",
       " 1.0\n",
       " 5.0\n",
       " 4.0\n",
       " 3.0\n",
       " 2.0"
      ]
     },
     "execution_count": 6,
     "metadata": {},
     "output_type": "execute_result"
    }
   ],
   "source": [
    "order_array"
   ]
  },
  {
   "cell_type": "code",
   "execution_count": 8,
   "metadata": {},
   "outputs": [],
   "source": [
    "numb = 10\n",
    "X = 2*cos.(0:2*pi/numb:2*pi - 2*pi/numb)\n",
    "Y = 2*sin.(0:2*pi/numb:2*pi - 2*pi/numb)\n",
    "D = [sqrt((X[i]-X[j])^2 + (Y[i]-Y[j])^2) for j = 1:length(X), i = 1:length(X)];"
   ]
  },
  {
   "cell_type": "code",
   "execution_count": 9,
   "metadata": {},
   "outputs": [
    {
     "data": {
      "text/plain": [
       "12.360679774997896"
      ]
     },
     "execution_count": 9,
     "metadata": {},
     "output_type": "execute_result"
    }
   ],
   "source": [
    "order_array = zeros(numb,1)\n",
    "cost(1,1:numb,D)"
   ]
  }
 ],
 "metadata": {
  "kernelspec": {
   "display_name": "Julia 0.6.2",
   "language": "julia",
   "name": "julia-0.6"
  },
  "language_info": {
   "file_extension": ".jl",
   "mimetype": "application/julia",
   "name": "julia",
   "version": "0.6.2"
  }
 },
 "nbformat": 4,
 "nbformat_minor": 2
}
